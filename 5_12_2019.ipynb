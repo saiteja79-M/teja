{
  "nbformat": 4,
  "nbformat_minor": 0,
  "metadata": {
    "colab": {
      "name": "5-12-2019",
      "provenance": [],
      "include_colab_link": true
    },
    "kernelspec": {
      "name": "python3",
      "display_name": "Python 3"
    }
  },
  "cells": [
    {
      "cell_type": "markdown",
      "metadata": {
        "id": "view-in-github",
        "colab_type": "text"
      },
      "source": [
        "<a href=\"https://colab.research.google.com/github/saiteja79-M/teja/blob/master/5_12_2019.ipynb\" target=\"_parent\"><img src=\"https://colab.research.google.com/assets/colab-badge.svg\" alt=\"Open In Colab\"/></a>"
      ]
    },
    {
      "cell_type": "code",
      "metadata": {
        "id": "VGLzz2voKTja",
        "colab_type": "code",
        "colab": {
          "base_uri": "https://localhost:8080/",
          "height": 85
        },
        "outputId": "68cedd5b-eede-4b6a-bdf3-02715d62c7f0"
      },
      "source": [
        "#Basic List functions\n",
        "li = [1,9,16,25,5]\n",
        "print(max(li))\n",
        "print(min(li))\n",
        "print(sum(li))\n",
        "print(sum(li)//len(li))"
      ],
      "execution_count": 1,
      "outputs": [
        {
          "output_type": "stream",
          "text": [
            "25\n",
            "1\n",
            "56\n",
            "11\n"
          ],
          "name": "stdout"
        }
      ]
    },
    {
      "cell_type": "code",
      "metadata": {
        "id": "tX-d_FibL2Iy",
        "colab_type": "code",
        "colab": {
          "base_uri": "https://localhost:8080/",
          "height": 34
        },
        "outputId": "559fb169-f8cf-4019-8050-d95818eefd76"
      },
      "source": [
        "li = [1,9,16,25,5]\n",
        "li.append(29) # add the new items at li\n",
        "li.insert(2,256) # add the item at index 2\n",
        "li\n",
        "# li.append(9)\n",
        "li.count(9) # return the valve how many objects repeated\n",
        "# li.index(56) # return the valve at that index"
      ],
      "execution_count": 2,
      "outputs": [
        {
          "output_type": "execute_result",
          "data": {
            "text/plain": [
              "1"
            ]
          },
          "metadata": {
            "tags": []
          },
          "execution_count": 2
        }
      ]
    },
    {
      "cell_type": "code",
      "metadata": {
        "id": "AceweM9DNMiy",
        "colab_type": "code",
        "colab": {
          "base_uri": "https://localhost:8080/",
          "height": 34
        },
        "outputId": "00572507-c41c-40a2-af96-5bb503e0c0b8"
      },
      "source": [
        "# method of list objects\n",
        "li = [1,9,16,25,5]\n",
        "li.sort() # sorts that list in assending order\n",
        "li.pop() # last index value\n",
        "li\n",
        "# li.pop(1) # remove the items from the \n",
        "# li "
      ],
      "execution_count": 3,
      "outputs": [
        {
          "output_type": "execute_result",
          "data": {
            "text/plain": [
              "[1, 5, 9, 16]"
            ]
          },
          "metadata": {
            "tags": []
          },
          "execution_count": 3
        }
      ]
    },
    {
      "cell_type": "code",
      "metadata": {
        "id": "DdWNyLirPxiV",
        "colab_type": "code",
        "colab": {
          "base_uri": "https://localhost:8080/",
          "height": 34
        },
        "outputId": "42018a05-6d93-47c4-e889-07876c01e345"
      },
      "source": [
        "li1 = [1,9,16,25]\n",
        "li.extend(li1)\n",
        "li\n",
        "# li.reverse()\n",
        "#li.sort()"
      ],
      "execution_count": 4,
      "outputs": [
        {
          "output_type": "execute_result",
          "data": {
            "text/plain": [
              "[1, 5, 9, 16, 1, 9, 16, 25]"
            ]
          },
          "metadata": {
            "tags": []
          },
          "execution_count": 4
        }
      ]
    },
    {
      "cell_type": "code",
      "metadata": {
        "id": "LcX633IZQnoy",
        "colab_type": "code",
        "colab": {
          "base_uri": "https://localhost:8080/",
          "height": 34
        },
        "outputId": "4bfe5eb1-3eda-4676-8031-cd3e0c5ba396"
      },
      "source": [
        "li1 = [1,9,16,25]\n",
        "# li.extend(li1)\n",
        "li.reverse()\n",
        "li1\n",
        "#li.sort()"
      ],
      "execution_count": 5,
      "outputs": [
        {
          "output_type": "execute_result",
          "data": {
            "text/plain": [
              "[1, 9, 16, 25]"
            ]
          },
          "metadata": {
            "tags": []
          },
          "execution_count": 5
        }
      ]
    },
    {
      "cell_type": "code",
      "metadata": {
        "id": "rXhE0QUiSGA4",
        "colab_type": "code",
        "colab": {
          "base_uri": "https://localhost:8080/",
          "height": 51
        },
        "outputId": "700a6c83-cdca-472a-a448-c50fd01da240"
      },
      "source": [
        "def largeNumber(li):\n",
        "    li.sort()\n",
        "    return li[-1]\n",
        "def genericLarge(li,n):\n",
        "    li.sort()\n",
        "    return li[-n]\n",
        "li = [19,1,25,6,9,45,22]\n",
        "print(largeNumber(li))\n",
        "print(genericLarge(li,3))    "
      ],
      "execution_count": 6,
      "outputs": [
        {
          "output_type": "stream",
          "text": [
            "45\n",
            "22\n"
          ],
          "name": "stdout"
        }
      ]
    },
    {
      "cell_type": "code",
      "metadata": {
        "id": "2B88nABiYrcP",
        "colab_type": "code",
        "colab": {
          "base_uri": "https://localhost:8080/",
          "height": 51
        },
        "outputId": "76af0baf-e5db-4923-df23-8d0ed36ddad9"
      },
      "source": [
        "def smallNumber(li):\n",
        "    li.sort()\n",
        "    return li[0]\n",
        "def genericLarge(li,n):\n",
        "    li.sort()\n",
        "    return li[-n]\n",
        "li = [19,1,25,6,9,45,22]\n",
        "print(smallNumber(li))\n",
        "print(genericLarge(li,3))   "
      ],
      "execution_count": 17,
      "outputs": [
        {
          "output_type": "stream",
          "text": [
            "1\n",
            "22\n"
          ],
          "name": "stdout"
        }
      ]
    },
    {
      "cell_type": "markdown",
      "metadata": {
        "id": "acoj-Y6dY9zz",
        "colab_type": "text"
      },
      "source": [
        "### tuples"
      ]
    },
    {
      "cell_type": "code",
      "metadata": {
        "id": "2YysvzEFZAs8",
        "colab_type": "code",
        "colab": {}
      },
      "source": [
        "-parenthesis()--->tuple and square brackets[]---> list\n",
        "-difference between list and tuples\n",
        " -list are mutable - can be changed/modified\n",
        " -used to asses and modify,add,delete data\n",
        " -tuples are immulate - cannot be changed\n",
        " -used to acces data only"
      ],
      "execution_count": 0,
      "outputs": []
    },
    {
      "cell_type": "code",
      "metadata": {
        "id": "Td1v5j5lZ4xN",
        "colab_type": "code",
        "colab": {
          "base_uri": "https://localhost:8080/",
          "height": 34
        },
        "outputId": "d621aa52-9452-4acd-a22b-dd1c9284cf1b"
      },
      "source": [
        "t1 = (1,2,3,4,5,6)\n",
        "t1\n",
        "print(type(t1),t1[1:5])"
      ],
      "execution_count": 19,
      "outputs": [
        {
          "output_type": "stream",
          "text": [
            "<class 'tuple'> (2, 3, 4, 5)\n"
          ],
          "name": "stdout"
        }
      ]
    },
    {
      "cell_type": "markdown",
      "metadata": {
        "id": "h9r0I-EtcCEC",
        "colab_type": "text"
      },
      "source": [
        "#### dictionaries\n",
        "1.it work  on the concept of set unique data\n",
        "2.keys,values is the unique identifier for the value\n",
        "3.each key is separated from its value with colon:\n",
        "4.each key and value is separated with comma(,)\n",
        "5.dictionaries enchaned with curly braces({})"
      ]
    },
    {
      "cell_type": "code",
      "metadata": {
        "id": "fMRKSsG4ddk1",
        "colab_type": "code",
        "colab": {
          "base_uri": "https://localhost:8080/",
          "height": 34
        },
        "outputId": "ed4d529f-9763-405c-fe1b-3250199fe9dd"
      },
      "source": [
        "d1 = {'Name':'gitam','email id':'gitam@gmail.com','address':'hyderabad'}\n",
        "d1"
      ],
      "execution_count": 20,
      "outputs": [
        {
          "output_type": "execute_result",
          "data": {
            "text/plain": [
              "{'Name': 'gitam', 'address': 'hyderabad', 'email id': 'gitam@gmail.com'}"
            ]
          },
          "metadata": {
            "tags": []
          },
          "execution_count": 20
        }
      ]
    },
    {
      "cell_type": "code",
      "metadata": {
        "id": "ww-xQiyXdzZU",
        "colab_type": "code",
        "colab": {
          "base_uri": "https://localhost:8080/",
          "height": 34
        },
        "outputId": "e94bbcfd-e675-47c0-fb04-77d761a39d59"
      },
      "source": [
        "d1 = {\"Name\":\"gitam\",\"email id\":\"gitam@gmail.com\",\"address\":\"hyderabad\"}\n",
        "d1[\"email id\"] = \"gitampython@gmail.com\" # updata the data\n",
        "d1"
      ],
      "execution_count": 23,
      "outputs": [
        {
          "output_type": "execute_result",
          "data": {
            "text/plain": [
              "{'Name': 'gitam', 'address': 'hyderabad', 'email id': 'gitampython@gmail.com'}"
            ]
          },
          "metadata": {
            "tags": []
          },
          "execution_count": 23
        }
      ]
    },
    {
      "cell_type": "code",
      "metadata": {
        "id": "bjnLOh2rebat",
        "colab_type": "code",
        "colab": {
          "base_uri": "https://localhost:8080/",
          "height": 34
        },
        "outputId": "d4023760-28ab-4e8d-f7da-70f32946beb6"
      },
      "source": [
        "d1[\"email id\"]"
      ],
      "execution_count": 25,
      "outputs": [
        {
          "output_type": "execute_result",
          "data": {
            "text/plain": [
              "'gitampython@gmail.com'"
            ]
          },
          "metadata": {
            "tags": []
          },
          "execution_count": 25
        }
      ]
    },
    {
      "cell_type": "code",
      "metadata": {
        "id": "wg2LK97ie8GF",
        "colab_type": "code",
        "colab": {
          "base_uri": "https://localhost:8080/",
          "height": 85
        },
        "outputId": "a1cc9b46-a2f5-4cd0-e3ed-fdfb7a7fcc27"
      },
      "source": [
        "d1[\"course\"] = \"python\" # adding on entry\n",
        "d1 \n"
      ],
      "execution_count": 26,
      "outputs": [
        {
          "output_type": "execute_result",
          "data": {
            "text/plain": [
              "{'Name': 'gitam',\n",
              " 'address': 'hyderabad',\n",
              " 'course': 'python',\n",
              " 'email id': 'gitampython@gmail.com'}"
            ]
          },
          "metadata": {
            "tags": []
          },
          "execution_count": 26
        }
      ]
    },
    {
      "cell_type": "code",
      "metadata": {
        "id": "q-RR-8H2gNQy",
        "colab_type": "code",
        "colab": {
          "base_uri": "https://localhost:8080/",
          "height": 85
        },
        "outputId": "b869d7f8-571b-4aa6-874a-579c30a170be"
      },
      "source": [
        "d1.keys()\n",
        "d1"
      ],
      "execution_count": 29,
      "outputs": [
        {
          "output_type": "execute_result",
          "data": {
            "text/plain": [
              "{'Name': 'gitam',\n",
              " 'address': 'hyderabad',\n",
              " 'course': 'python',\n",
              " 'email id': 'gitampython@gmail.com'}"
            ]
          },
          "metadata": {
            "tags": []
          },
          "execution_count": 29
        }
      ]
    },
    {
      "cell_type": "code",
      "metadata": {
        "id": "qqBk8e-RgnTo",
        "colab_type": "code",
        "colab": {
          "base_uri": "https://localhost:8080/",
          "height": 34
        },
        "outputId": "8f5043dc-c1df-4881-a250-9ad0f5370531"
      },
      "source": [
        "d1.values()"
      ],
      "execution_count": 30,
      "outputs": [
        {
          "output_type": "execute_result",
          "data": {
            "text/plain": [
              "dict_values(['gitam', 'gitampython@gmail.com', 'hyderabad', 'python'])"
            ]
          },
          "metadata": {
            "tags": []
          },
          "execution_count": 30
        }
      ]
    },
    {
      "cell_type": "code",
      "metadata": {
        "id": "8bmc9MEBgtuu",
        "colab_type": "code",
        "colab": {
          "base_uri": "https://localhost:8080/",
          "height": 34
        },
        "outputId": "6e298779-30c4-431e-c53b-b37a3534267a"
      },
      "source": [
        "d1.items() # the list of tuples of keys and values"
      ],
      "execution_count": 31,
      "outputs": [
        {
          "output_type": "execute_result",
          "data": {
            "text/plain": [
              "dict_items([('Name', 'gitam'), ('email id', 'gitampython@gmail.com'), ('address', 'hyderabad'), ('course', 'python')])"
            ]
          },
          "metadata": {
            "tags": []
          },
          "execution_count": 31
        }
      ]
    },
    {
      "cell_type": "markdown",
      "metadata": {
        "id": "D4AqoKrghjAs",
        "colab_type": "text"
      },
      "source": [
        "### strings:\n",
        "1.strings\n",
        "2.string slicings\n",
        "3.fundamental programming with string in python"
      ]
    },
    {
      "cell_type": "code",
      "metadata": {
        "id": "OZ9dNY1tiAFd",
        "colab_type": "code",
        "colab": {
          "base_uri": "https://localhost:8080/",
          "height": 51
        },
        "outputId": "92672540-4aa4-47af-8d40-8bcecdc66671"
      },
      "source": [
        "s1 = 'python'\n",
        "print(s1)\n",
        "print(type(s1))"
      ],
      "execution_count": 32,
      "outputs": [
        {
          "output_type": "stream",
          "text": [
            "python\n",
            "<class 'str'>\n"
          ],
          "name": "stdout"
        }
      ]
    },
    {
      "cell_type": "code",
      "metadata": {
        "id": "hd_6MryXiQvT",
        "colab_type": "code",
        "colab": {
          "base_uri": "https://localhost:8080/",
          "height": 85
        },
        "outputId": "be634624-db86-4e36-fbe9-2315d2697970"
      },
      "source": [
        "s1 = 'python'\n",
        "print(s1[0]) # access the first character\n",
        "print(s1[1]) # access the second character\n",
        "print(s1[5]) # last character\n",
        "print(s1[len(s1)-1]) # access the last character"
      ],
      "execution_count": 34,
      "outputs": [
        {
          "output_type": "stream",
          "text": [
            "p\n",
            "y\n",
            "n\n",
            "n\n"
          ],
          "name": "stdout"
        }
      ]
    },
    {
      "cell_type": "code",
      "metadata": {
        "id": "3x2Cm8M4joC_",
        "colab_type": "code",
        "colab": {
          "base_uri": "https://localhost:8080/",
          "height": 119
        },
        "outputId": "ee2377ce-d438-40d5-fcb2-38adc470536f"
      },
      "source": [
        "s1 = 'python'\n",
        "print(s1[-1])\n",
        "print(s1[-2])\n",
        "print(s1[0:2])\n",
        "print(s1[3])\n",
        "print(s1[3:])\n",
        "print(s1[2:])\n"
      ],
      "execution_count": 38,
      "outputs": [
        {
          "output_type": "stream",
          "text": [
            "n\n",
            "o\n",
            "py\n",
            "h\n",
            "hon\n",
            "thon\n"
          ],
          "name": "stdout"
        }
      ]
    },
    {
      "cell_type": "code",
      "metadata": {
        "id": "cO5ZWCtqh26v",
        "colab_type": "code",
        "colab": {
          "base_uri": "https://localhost:8080/",
          "height": 119
        },
        "outputId": "9f5a5b20-9024-4aae-fd64-a6df4e9a4554"
      },
      "source": [
        "s1 = 'python'\n",
        "print(s1[1:-1])\n",
        "print(s1[len(s1)//2])\n",
        "print(s1[-1::1])\n",
        "print(s1[-1:-3:-1])\n",
        "print(s1[::2])\n",
        "print(s1[::-2])"
      ],
      "execution_count": 44,
      "outputs": [
        {
          "output_type": "stream",
          "text": [
            "ytho\n",
            "h\n",
            "n\n",
            "no\n",
            "pto\n",
            "nhy\n"
          ],
          "name": "stdout"
        }
      ]
    },
    {
      "cell_type": "code",
      "metadata": {
        "id": "Vunq-2_Klu0O",
        "colab_type": "code",
        "colab": {}
      },
      "source": [
        ""
      ],
      "execution_count": 0,
      "outputs": []
    },
    {
      "cell_type": "markdown",
      "metadata": {
        "id": "V10kLisKnQHG",
        "colab_type": "text"
      },
      "source": [
        "# check whether the given string is palindrome or not"
      ]
    },
    {
      "cell_type": "code",
      "metadata": {
        "id": "CfsBETQWnevD",
        "colab_type": "code",
        "colab": {
          "base_uri": "https://localhost:8080/",
          "height": 51
        },
        "outputId": "db581f26-db44-47e2-9053-8b14424c49e4"
      },
      "source": [
        "def ispalindrome(str):\n",
        "    if str == str[::-1]:\n",
        "       return True\n",
        "    else:\n",
        "      return False\n",
        "    return\n",
        "print(ispalindrome(\"python\"))\n",
        "print(ispalindrome(\"malayalam\"))"
      ],
      "execution_count": 49,
      "outputs": [
        {
          "output_type": "stream",
          "text": [
            "False\n",
            "True\n"
          ],
          "name": "stdout"
        }
      ]
    },
    {
      "cell_type": "code",
      "metadata": {
        "id": "FvBVmkkFoW5c",
        "colab_type": "code",
        "colab": {}
      },
      "source": [
        "### String built-in methods:\n",
        "1.upper() -- will convert the i/p sring into upper case\n",
        "lower() -- will convert the i/p sring into lower case"
      ],
      "execution_count": 0,
      "outputs": []
    },
    {
      "cell_type": "code",
      "metadata": {
        "id": "6vC6KinZpsB2",
        "colab_type": "code",
        "colab": {
          "base_uri": "https://localhost:8080/",
          "height": 51
        },
        "outputId": "b38806a6-3d68-474a-8765-bc749d023c56"
      },
      "source": [
        "s1 = 'python'\n",
        "print(s1.upper())\n",
        "print(s1.lower())"
      ],
      "execution_count": 50,
      "outputs": [
        {
          "output_type": "stream",
          "text": [
            "PYTHON\n",
            "python\n"
          ],
          "name": "stdout"
        }
      ]
    },
    {
      "cell_type": "code",
      "metadata": {
        "id": "TdtGLAt0qAtj",
        "colab_type": "code",
        "colab": {}
      },
      "source": [
        "lsupper() -- true if the string have all characters lower case\n",
        "lsupper() -- true if the string have all characters lower case\n",
        "lstitle()-- true if the string in title case\n",
        "lsnumeric()--true if the string have all characters  as alphabet \n",
        "lsspace()-- true if the string in space "
      ],
      "execution_count": 0,
      "outputs": []
    },
    {
      "cell_type": "code",
      "metadata": {
        "id": "-UuMmpVIrLKc",
        "colab_type": "code",
        "colab": {
          "base_uri": "https://localhost:8080/",
          "height": 51
        },
        "outputId": "82556bac-18b2-4f74-be94-31026ce8ff09"
      },
      "source": [
        "s1 = \"python\"\n",
        "print(s1.islower())\n",
        "print(s1.isupper())"
      ],
      "execution_count": 52,
      "outputs": [
        {
          "output_type": "stream",
          "text": [
            "True\n",
            "False\n"
          ],
          "name": "stdout"
        }
      ]
    },
    {
      "cell_type": "code",
      "metadata": {
        "id": "J5fGHnTvsMAN",
        "colab_type": "code",
        "colab": {
          "base_uri": "https://localhost:8080/",
          "height": 51
        },
        "outputId": "cca0c791-838d-41fc-f81b-9dce9d6049c1"
      },
      "source": [
        "s1 = \"py123456\"\n",
        "s2 = \"python\"\n",
        "print(s1.isalpha())\n",
        "print(s2.isalpha())"
      ],
      "execution_count": 54,
      "outputs": [
        {
          "output_type": "stream",
          "text": [
            "False\n",
            "True\n"
          ],
          "name": "stdout"
        }
      ]
    },
    {
      "cell_type": "code",
      "metadata": {
        "id": "c-FGx1mlstuJ",
        "colab_type": "code",
        "colab": {
          "base_uri": "https://localhost:8080/",
          "height": 34
        },
        "outputId": "f950a229-d5fa-45a7-a9b2-afe780f41d6f"
      },
      "source": [
        " s1 = \"python\"\n",
        " print(\" \".join(s1))"
      ],
      "execution_count": 60,
      "outputs": [
        {
          "output_type": "stream",
          "text": [
            "p y t h o n\n"
          ],
          "name": "stdout"
        }
      ]
    },
    {
      "cell_type": "code",
      "metadata": {
        "id": "uBkc4NALtPFI",
        "colab_type": "code",
        "colab": {
          "base_uri": "https://localhost:8080/",
          "height": 34
        },
        "outputId": "0cf316c6-0c0d-456e-d864-3e269f990b78"
      },
      "source": [
        "s2 = \"python programming Easy to learn\"\n",
        "print(\",\".join(s2))"
      ],
      "execution_count": 61,
      "outputs": [
        {
          "output_type": "stream",
          "text": [
            "p,y,t,h,o,n, ,p,r,o,g,r,a,m,m,i,n,g, ,E,a,s,y, ,t,o, ,l,e,a,r,n\n"
          ],
          "name": "stdout"
        }
      ]
    },
    {
      "cell_type": "code",
      "metadata": {
        "id": "WJS38lGruUv1",
        "colab_type": "code",
        "colab": {
          "base_uri": "https://localhost:8080/",
          "height": 34
        },
        "outputId": "552189ac-460a-4358-9c1c-0db4bace1ffd"
      },
      "source": [
        "s2 = \"python programming Easy to learn\"\n",
        "print(s2.split())"
      ],
      "execution_count": 62,
      "outputs": [
        {
          "output_type": "stream",
          "text": [
            "['python', 'programming', 'Easy', 'to', 'learn']\n"
          ],
          "name": "stdout"
        }
      ]
    },
    {
      "cell_type": "code",
      "metadata": {
        "id": "HISp3e7Qu957",
        "colab_type": "code",
        "colab": {
          "base_uri": "https://localhost:8080/",
          "height": 34
        },
        "outputId": "d2ceaf99-aa52-4b0c-cb62-378e7f8752b1"
      },
      "source": [
        "s2 = \"python programming Easy to learn\"\n",
        "print(s2.split('a'))"
      ],
      "execution_count": 63,
      "outputs": [
        {
          "output_type": "stream",
          "text": [
            "['python progr', 'mming E', 'sy to le', 'rn']\n"
          ],
          "name": "stdout"
        }
      ]
    },
    {
      "cell_type": "code",
      "metadata": {
        "id": "ZRKpd5B-vKwY",
        "colab_type": "code",
        "colab": {
          "base_uri": "https://localhost:8080/",
          "height": 129
        },
        "outputId": "b63f55d1-3920-431c-c70c-26bfc91ff0cd"
      },
      "source": [
        "s2 = \"python programming Easy to learn\"\n",
        "print(len(s2))\n",
        "li = s2 split() # split the srting -- list object\n",
        "print(li)\n",
        "print(len(li))"
      ],
      "execution_count": 66,
      "outputs": [
        {
          "output_type": "error",
          "ename": "SyntaxError",
          "evalue": "ignored",
          "traceback": [
            "\u001b[0;36m  File \u001b[0;32m\"<ipython-input-66-22564bd4c3fe>\"\u001b[0;36m, line \u001b[0;32m3\u001b[0m\n\u001b[0;31m    li = s2 split() # split the srting -- list object\u001b[0m\n\u001b[0m                ^\u001b[0m\n\u001b[0;31mSyntaxError\u001b[0m\u001b[0;31m:\u001b[0m invalid syntax\n"
          ]
        }
      ]
    },
    {
      "cell_type": "code",
      "metadata": {
        "id": "Uh5wNGe2vljI",
        "colab_type": "code",
        "colab": {
          "base_uri": "https://localhost:8080/",
          "height": 34
        },
        "outputId": "3af4c4f2-4e9c-4e6e-ddb8-bea8c768faa9"
      },
      "source": [
        "s2 = \"python programming Easy to learn\"\n",
        "li = list(s2)\n",
        "print(li)"
      ],
      "execution_count": 68,
      "outputs": [
        {
          "output_type": "stream",
          "text": [
            "['p', 'y', 't', 'h', 'o', 'n', ' ', 'p', 'r', 'o', 'g', 'r', 'a', 'm', 'm', 'i', 'n', 'g', ' ', 'E', 'a', 's', 'y', ' ', 't', 'o', ' ', 'l', 'e', 'a', 'r', 'n']\n"
          ],
          "name": "stdout"
        }
      ]
    },
    {
      "cell_type": "code",
      "metadata": {
        "id": "GsHggOd8wHdp",
        "colab_type": "code",
        "colab": {
          "base_uri": "https://localhost:8080/",
          "height": 34
        },
        "outputId": "e7f8713b-3ab6-4638-8cd4-3f6c949cf63b"
      },
      "source": [
        "s2 = \"python programming Easy to learn\"\n",
        "print(s2.replace(\"gra\",\"applications\"))"
      ],
      "execution_count": 69,
      "outputs": [
        {
          "output_type": "stream",
          "text": [
            "python proapplicationsmming Easy to learn\n"
          ],
          "name": "stdout"
        }
      ]
    }
  ]
}