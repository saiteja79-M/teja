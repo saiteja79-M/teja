{
 "cells": [
  {
   "cell_type": "code",
   "execution_count": 1,
   "metadata": {},
   "outputs": [
    {
     "name": "stdout",
     "output_type": "stream",
     "text": [
      "Hello World\n"
     ]
    }
   ],
   "source": [
    "print(\"Hello World\")"
   ]
  },
  {
   "cell_type": "code",
   "execution_count": 3,
   "metadata": {},
   "outputs": [
    {
     "data": {
      "text/plain": [
       "30"
      ]
     },
     "execution_count": 3,
     "metadata": {},
     "output_type": "execute_result"
    }
   ],
   "source": [
    "# variable Creation\n",
    "a = 10\n",
    "b = 20\n",
    "a+b"
   ]
  },
  {
   "cell_type": "markdown",
   "metadata": {},
   "source": []
  },
  {
   "cell_type": "code",
   "execution_count": 4,
   "metadata": {},
   "outputs": [
    {
     "name": "stdout",
     "output_type": "stream",
     "text": [
      "University:Gitam\n"
     ]
    }
   ],
   "source": [
    "name = \"Gitam\"\n",
    "print(\"University:\" +name)"
   ]
  },
  {
   "cell_type": "code",
   "execution_count": 7,
   "metadata": {},
   "outputs": [
    {
     "name": "stdout",
     "output_type": "stream",
     "text": [
      "Enter a nameSridhar\n",
      "Enter your age21\n",
      "My name is  Sridhar My age is  21\n"
     ]
    }
   ],
   "source": [
    "name = input(\"Enter a name\")\n",
    "age=input(\"Enter your age\")\n",
    "print(\"My name is \",name , \"My age is \",age)"
   ]
  },
  {
   "cell_type": "code",
   "execution_count": 13,
   "metadata": {},
   "outputs": [
    {
     "name": "stdout",
     "output_type": "stream",
     "text": [
      "Enter first no30\n",
      "Enter second No20\n",
      "Sum =  50\n",
      "Substraction =  10\n",
      "Product =  600\n",
      "Division =  1.5\n"
     ]
    }
   ],
   "source": [
    "int \n",
    "a = int(input(\"Enter first no\"))\n",
    "b = int(input(\"Enter second No\"))\n",
    "c = a + b\n",
    "d = a * b\n",
    "e = a / b\n",
    "f = a - b\n",
    "print(\"Sum = \",c)\n",
    "print(\"Substraction = \",f)\n",
    "print(\"Product = \",d)\n",
    "print(\"Division = \",e)\n",
    "\n"
   ]
  },
  {
   "cell_type": "markdown",
   "metadata": {},
   "source": [
    "###Fundamental Data types\n",
    "1.int\n",
    "2.float\n",
    "3.complex\n",
    "4.boolean\n",
    "5.string\n"
   ]
  },
  {
   "cell_type": "code",
   "execution_count": 19,
   "metadata": {},
   "outputs": [
    {
     "name": "stdout",
     "output_type": "stream",
     "text": [
      "<class 'int'> <class 'float'> <class 'complex'>\n"
     ]
    }
   ],
   "source": [
    "a = 10\n",
    "b = 12.56\n",
    "d = 6.5+7j\n",
    "print(type(a), type(b), type(d))\n"
   ]
  },
  {
   "cell_type": "code",
   "execution_count": 21,
   "metadata": {},
   "outputs": [
    {
     "name": "stdout",
     "output_type": "stream",
     "text": [
      "(3+4j)\n"
     ]
    }
   ],
   "source": [
    "c = complex(3,4)\n",
    "print(c) "
   ]
  },
  {
   "cell_type": "code",
   "execution_count": 22,
   "metadata": {},
   "outputs": [
    {
     "data": {
      "text/plain": [
       "True"
      ]
     },
     "execution_count": 22,
     "metadata": {},
     "output_type": "execute_result"
    }
   ],
   "source": [
    "a = 10\n",
    "b = 20\n",
    "b>a"
   ]
  },
  {
   "cell_type": "code",
   "execution_count": 23,
   "metadata": {},
   "outputs": [
    {
     "data": {
      "text/plain": [
       "False"
      ]
     },
     "execution_count": 23,
     "metadata": {},
     "output_type": "execute_result"
    }
   ],
   "source": [
    "a = 0.00003\n",
    "b = 0.3\n",
    "a>b"
   ]
  },
  {
   "cell_type": "code",
   "execution_count": 24,
   "metadata": {},
   "outputs": [
    {
     "name": "stdout",
     "output_type": "stream",
     "text": [
      "<class 'str'> <class 'str'>\n"
     ]
    }
   ],
   "source": [
    "s1 = \"abc\"\n",
    "s2 = \"xyz\"\n",
    "print(type(s1),type(s2))"
   ]
  },
  {
   "cell_type": "code",
   "execution_count": 26,
   "metadata": {},
   "outputs": [
    {
     "name": "stdout",
     "output_type": "stream",
     "text": [
      "<class 'str'>\n",
      "<class 'str'>\n",
      "<class 'int'>\n",
      "1\n"
     ]
    }
   ],
   "source": [
    "s1 = \"100\"\n",
    "print(type(s1))\n",
    "a =int(s1)\n",
    "print(type(s1))\n",
    "f = 1.5\n",
    "a1=int(f) \n",
    "print(type(a1))\n",
    "print(a1)\n"
   ]
  },
  {
   "cell_type": "code",
   "execution_count": 29,
   "metadata": {},
   "outputs": [
    {
     "name": "stdout",
     "output_type": "stream",
     "text": [
      "4\n"
     ]
    }
   ],
   "source": [
    "a1=1234\n",
    "print(len(str(a)))"
   ]
  },
  {
   "cell_type": "markdown",
   "metadata": {},
   "source": [
    "## operators\n",
    "1. arithematic operators     +,*,-,//,**,%\n",
    "2. logical operators         and,or,not\n",
    "3. relational operators      <,>,<=,>=,==,!=\n",
    "4. membership operators      in, not in"
   ]
  },
  {
   "cell_type": "code",
   "execution_count": 31,
   "metadata": {},
   "outputs": [
    {
     "name": "stdout",
     "output_type": "stream",
     "text": [
      "33\n",
      "252\n",
      "-9\n",
      "0.5714285714285714\n",
      "12\n",
      "46005119909369701466112\n",
      "0\n"
     ]
    }
   ],
   "source": [
    "n1 = 12\n",
    "n2 = 21\n",
    "print(n1+n2)\n",
    "print(n1*n2)\n",
    "print(n1-n2)\n",
    "print(n1/n2)\n",
    "print(n1%n2)\n",
    "print(n1**n2)\n",
    "print(n1//n2)"
   ]
  },
  {
   "cell_type": "code",
   "execution_count": 2,
   "metadata": {},
   "outputs": [
    {
     "name": "stdout",
     "output_type": "stream",
     "text": [
      "False\n",
      "True\n",
      "True\n",
      "True\n",
      "False\n",
      "False\n",
      "False\n"
     ]
    }
   ],
   "source": [
    "#relational operators\n",
    "n1 = 12\n",
    "n2 = 21\n",
    "print(n1 == n2)\n",
    "print(n1 != n2)\n",
    "print(n1<n2)\n",
    "print(n1<=n2)\n",
    "print(n1>=n2)\n",
    "print(n1 ==n2)\n",
    "print(n1>n2)"
   ]
  },
  {
   "cell_type": "code",
   "execution_count": 35,
   "metadata": {},
   "outputs": [
    {
     "name": "stdout",
     "output_type": "stream",
     "text": [
      "True\n",
      "True\n",
      "False\n"
     ]
    }
   ],
   "source": [
    "# logical operators\n",
    "print(n1>=10 and n1<=20)\n",
    "print(n1>=10 or n1<=20)\n",
    "print(not n1)\n"
   ]
  },
  {
   "cell_type": "markdown",
   "metadata": {},
   "source": [
    "# membership operator\n",
    "## in -true value is  found\n",
    "## nt in - true value is not found"
   ]
  },
  {
   "cell_type": "code",
   "execution_count": 3,
   "metadata": {},
   "outputs": [
    {
     "name": "stdout",
     "output_type": "stream",
     "text": [
      "True\n",
      "False\n",
      "True\n"
     ]
    }
   ],
   "source": [
    "f = [1,2,3,4]\n",
    "print(1 in f)\n",
    "print(5 in f)\n",
    "print(6 not in f)\n"
   ]
  },
  {
   "cell_type": "markdown",
   "metadata": {},
   "source": [
    "## conditional statement\n",
    "1. if\n",
    "2. else\n",
    "3. elseif\n",
    "## Syntax\n",
    "#### if condition\n",
    "> statement<br>\n",
    "### else:\n",
    "> statements"
   ]
  },
  {
   "cell_type": "code",
   "execution_count": 5,
   "metadata": {},
   "outputs": [
    {
     "name": "stdout",
     "output_type": "stream",
     "text": [
      "Enter a no.15\n",
      "Odd\n"
     ]
    }
   ],
   "source": [
    "n = int(input(\"Enter a no.\"))\n",
    "if n%2 == 0:\n",
    "    print(\"Even\")\n",
    "else:\n",
    "    print(\"Odd\")"
   ]
  },
  {
   "cell_type": "code",
   "execution_count": 9,
   "metadata": {},
   "outputs": [
    {
     "name": "stdout",
     "output_type": "stream",
     "text": [
      "Enter a no.150\n",
      "multiple of 3 & 5\n"
     ]
    }
   ],
   "source": [
    "n = int(input(\"Enter a no.\"))\n",
    "if n%3 == 0 and n%5 == 0:\n",
    "    print(\"multiple of 3 & 5\")\n",
    "else:\n",
    "    print(\"Not a multiple of 3 & 5\")"
   ]
  },
  {
   "cell_type": "code",
   "execution_count": 17,
   "metadata": {},
   "outputs": [
    {
     "name": "stdout",
     "output_type": "stream",
     "text": [
      "Enter a no.0\n",
      "0\n"
     ]
    }
   ],
   "source": [
    "n = int(input(\"Enter a no.\"))\n",
    "if n == 0 :\n",
    "    print(\"0\")\n",
    "elif n>0:\n",
    "    print(\"+ve\")\n",
    "else:\n",
    "    print(\"-ve\")\n"
   ]
  },
  {
   "cell_type": "code",
   "execution_count": 18,
   "metadata": {},
   "outputs": [
    {
     "name": "stdout",
     "output_type": "stream",
     "text": [
      "Enter an year2000\n",
      "Leap year\n"
     ]
    }
   ],
   "source": [
    "n = int(input(\"Enter an year\"))\n",
    "if n%400 == 0 :\n",
    "    print(\"Leap year\")\n",
    "else:\n",
    "    print(\"Not a leap year\")"
   ]
  },
  {
   "cell_type": "code",
   "execution_count": 7,
   "metadata": {},
   "outputs": [
    {
     "name": "stdout",
     "output_type": "stream",
     "text": [
      "Enter the number9\n",
      "1\n",
      "2\n",
      "3\n",
      "4\n",
      "5\n",
      "6\n",
      "7\n",
      "8\n",
      "9\n"
     ]
    }
   ],
   "source": [
    "# print no from 1 to 0\n",
    "z = int(input(\"Enter the number\"))\n",
    "i=1\n",
    "while i<=z:\n",
    "    print(i)\n",
    "    i=i+1\n",
    "    "
   ]
  },
  {
   "cell_type": "code",
   "execution_count": 9,
   "metadata": {},
   "outputs": [
    {
     "name": "stdout",
     "output_type": "stream",
     "text": [
      "Enter the number10\n",
      "30\n"
     ]
    }
   ],
   "source": [
    "# print sum no from 1 to 10\n",
    "z = int(input(\"Enter the number\"))\n",
    "i=1\n",
    "sum = 0\n",
    "while i<=z:\n",
    "    if i % 2 ==0:\n",
    "        sum = sum +i\n",
    "    i = i + 1\n",
    "print(sum)\n",
    "    "
   ]
  },
  {
   "cell_type": "code",
   "execution_count": null,
   "metadata": {},
   "outputs": [],
   "source": []
  }
 ],
 "metadata": {
  "kernelspec": {
   "display_name": "Python 3",
   "language": "python",
   "name": "python3"
  },
  "language_info": {
   "codemirror_mode": {
    "name": "ipython",
    "version": 3
   },
   "file_extension": ".py",
   "mimetype": "text/x-python",
   "name": "python",
   "nbconvert_exporter": "python",
   "pygments_lexer": "ipython3",
   "version": "3.7.3"
  }
 },
 "nbformat": 4,
 "nbformat_minor": 2
}
