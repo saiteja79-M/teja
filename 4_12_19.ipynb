{
  "nbformat": 4,
  "nbformat_minor": 0,
  "metadata": {
    "colab": {
      "name": "4/12/19.ipynb",
      "provenance": [],
      "collapsed_sections": [],
      "include_colab_link": true
    },
    "kernelspec": {
      "name": "python3",
      "display_name": "Python 3"
    }
  },
  "cells": [
    {
      "cell_type": "markdown",
      "metadata": {
        "id": "view-in-github",
        "colab_type": "text"
      },
      "source": [
        "<a href=\"https://colab.research.google.com/github/SaiSridhar007/Ironman007/blob/master/4_12_19.ipynb\" target=\"_parent\"><img src=\"https://colab.research.google.com/assets/colab-badge.svg\" alt=\"Open In Colab\"/></a>"
      ]
    },
    {
      "cell_type": "markdown",
      "metadata": {
        "id": "HjkyzpYnBACU",
        "colab_type": "text"
      },
      "source": [
        "## Functional Programming\n",
        "1. simple\n",
        "2. easy to understand\n",
        "3. better reusability\n",
        "4. length of program will be divided into sub programs"
      ]
    },
    {
      "cell_type": "code",
      "metadata": {
        "id": "edAqYQWDBhRc",
        "colab_type": "code",
        "colab": {}
      },
      "source": [
        "### Syntax  \n",
        "def nameofFunction(<parameters>):\n",
        "  statements\n",
        "  return"
      ],
      "execution_count": 0,
      "outputs": []
    },
    {
      "cell_type": "code",
      "metadata": {
        "id": "78crRnenCNRg",
        "colab_type": "code",
        "colab": {
          "base_uri": "https://localhost:8080/",
          "height": 51
        },
        "outputId": "9fa56625-29a7-4e84-b98f-157da0fba361"
      },
      "source": [
        "# Read a number\n",
        "# Print the Even digit sum from the number\n",
        "\n",
        "#Input : 1234 \n",
        "# Output : 6(2+4)\n",
        "\n",
        "n = int(input(\"Enter the value of n\"))\n",
        "def evendigitsum(n):\n",
        "  s = 0\n",
        "  while n != 0:\n",
        "    r = n%10\n",
        "    if r%2 == 0:\n",
        "      s = s+r\n",
        "    n = n//10\n",
        "  return s\n",
        "evendigitsum(n)"
      ],
      "execution_count": 19,
      "outputs": [
        {
          "output_type": "stream",
          "text": [
            "Enter the value of n1687\n"
          ],
          "name": "stdout"
        },
        {
          "output_type": "execute_result",
          "data": {
            "text/plain": [
              "14"
            ]
          },
          "metadata": {
            "tags": []
          },
          "execution_count": 19
        }
      ]
    },
    {
      "cell_type": "code",
      "metadata": {
        "id": "iw1K1JQBF6Do",
        "colab_type": "code",
        "colab": {
          "base_uri": "https://localhost:8080/",
          "height": 34
        },
        "outputId": "381afe26-a780-4184-d369-af786c38031e"
      },
      "source": [
        "# Defining return function\n",
        "def square(x):\n",
        "  print(x*x)\n",
        "square(4)"
      ],
      "execution_count": 21,
      "outputs": [
        {
          "output_type": "stream",
          "text": [
            "16\n"
          ],
          "name": "stdout"
        }
      ]
    },
    {
      "cell_type": "code",
      "metadata": {
        "id": "_GLcg9QfHaVh",
        "colab_type": "code",
        "colab": {
          "base_uri": "https://localhost:8080/",
          "height": 51
        },
        "outputId": "c1e5c7db-460a-4263-b1aa-33c22b53dba8"
      },
      "source": [
        "# Defining Cube \n",
        "n = int(input(\"ENter the value of n\"))\n",
        "def cube(x):\n",
        "  print(x*x*x)\n",
        "cube(n)"
      ],
      "execution_count": 22,
      "outputs": [
        {
          "output_type": "stream",
          "text": [
            "ENter the value of n1456\n",
            "3086626816\n"
          ],
          "name": "stdout"
        }
      ]
    },
    {
      "cell_type": "code",
      "metadata": {
        "id": "VfqPF25pHy3P",
        "colab_type": "code",
        "colab": {
          "base_uri": "https://localhost:8080/",
          "height": 51
        },
        "outputId": "018fd7d7-ff61-426b-bc90-20c36eb2bca5"
      },
      "source": [
        "# defininf Square root\n",
        "n = int(input(\"ENter the value of n\"))\n",
        "def sqrt(n):\n",
        "  print(n**0.5)\n",
        "sqrt(n)"
      ],
      "execution_count": 28,
      "outputs": [
        {
          "output_type": "stream",
          "text": [
            "ENter the value of n4\n",
            "2.0\n"
          ],
          "name": "stdout"
        }
      ]
    },
    {
      "cell_type": "code",
      "metadata": {
        "id": "goyhiV6KIzTf",
        "colab_type": "code",
        "colab": {
          "base_uri": "https://localhost:8080/",
          "height": 68
        },
        "outputId": "8826c3ba-6863-4112-be59-b3c743e8f947"
      },
      "source": [
        "def multiply(x,y=0):\n",
        "  print(\"value of x=\",x)\n",
        "  print(\"value of y=\",y)\n",
        "  return(x*y)\n",
        "multiply(x=8,y=13)"
      ],
      "execution_count": 29,
      "outputs": [
        {
          "output_type": "stream",
          "text": [
            "value of x= 8\n",
            "value of y= 13\n"
          ],
          "name": "stdout"
        },
        {
          "output_type": "execute_result",
          "data": {
            "text/plain": [
              "104"
            ]
          },
          "metadata": {
            "tags": []
          },
          "execution_count": 29
        }
      ]
    },
    {
      "cell_type": "code",
      "metadata": {
        "colab_type": "code",
        "outputId": "3edd574c-d26a-4eea-a518-d61a68a6c868",
        "id": "msP2j_nxTHGm",
        "colab": {
          "base_uri": "https://localhost:8080/",
          "height": 34
        }
      },
      "source": [
        "# swap values\n",
        "x=2\n",
        "y=3\n",
        "def swap(x=2,y=3):\n",
        "  temp = x\n",
        "  x=y\n",
        "  y = temp\n",
        "  return x,y\n",
        "swap(x,y)"
      ],
      "execution_count": 0,
      "outputs": [
        {
          "output_type": "execute_result",
          "data": {
            "text/plain": [
              "(3, 2)"
            ]
          },
          "metadata": {
            "tags": []
          },
          "execution_count": 36
        }
      ]
    },
    {
      "cell_type": "markdown",
      "metadata": {
        "id": "TIl1Xc88TKh3",
        "colab_type": "text"
      },
      "source": [
        "## For loop\n",
        "### syntax 1\n",
        "for i in range(start, stop, step):\n",
        ">statements\n",
        "### syntax2\n",
        "for i in Iterableobject\n",
        ">statements\n"
      ]
    },
    {
      "cell_type": "code",
      "metadata": {
        "id": "qfn8cEV_TfPC",
        "colab_type": "code",
        "colab": {
          "base_uri": "https://localhost:8080/",
          "height": 34
        },
        "outputId": "e465be17-ec8c-434c-d285-32f4f17ce0b6"
      },
      "source": [
        "def print_series(lb,ub):\n",
        "  for x in range(lb,ub+1):\n",
        "    print(x,end = ' ')\n",
        "  return\n",
        "print_series(1,10)"
      ],
      "execution_count": 49,
      "outputs": [
        {
          "output_type": "stream",
          "text": [
            "1 2 3 4 5 6 7 8 9 10 "
          ],
          "name": "stdout"
        }
      ]
    },
    {
      "cell_type": "markdown",
      "metadata": {
        "id": "FamrLGQ8VfyM",
        "colab_type": "text"
      },
      "source": [
        "## Collection types:\n",
        "1. List\n",
        "2. Tuple\n",
        "3. Set\n",
        "4. Dictionary"
      ]
    },
    {
      "cell_type": "markdown",
      "metadata": {
        "id": "aZD7BI7EVxhl",
        "colab_type": "text"
      },
      "source": [
        "## List:\n",
        "\n",
        "*   one of the Data structure in Python\n",
        "*   Data Structure means to store , sort and search options\n",
        "*   It is one common Data structure in puthon, the items of list seperated by comma and enclosed in square brackets []\n",
        "\n",
        "## Examples\n",
        "*  List1 = [1,2,3,4,5]\n",
        "*  List2 = [\"Gitam\",1,2]\n",
        "\n",
        "\n",
        "\n",
        "\n",
        "\n",
        "\n",
        "\n",
        "\n",
        "\n",
        "\n"
      ]
    },
    {
      "cell_type": "code",
      "metadata": {
        "id": "NdBMlzeaXQ6q",
        "colab_type": "code",
        "colab": {
          "base_uri": "https://localhost:8080/",
          "height": 119
        },
        "outputId": "76e1e4b4-1708-4258-a018-85245a2d63a6"
      },
      "source": [
        "li = [1,8,6,9,2]\n",
        "print(li) #will print all the list items\n",
        "print(li[0]) \n",
        "print(li[1])\n",
        "print(li[-5])\n",
        "print(li[:-1])\n",
        "print(li[-5:-1])"
      ],
      "execution_count": 54,
      "outputs": [
        {
          "output_type": "stream",
          "text": [
            "[1, 8, 6, 9, 2]\n",
            "1\n",
            "8\n",
            "1\n",
            "[1, 8, 6, 9]\n",
            "[1, 8, 6, 9]\n"
          ],
          "name": "stdout"
        }
      ]
    },
    {
      "cell_type": "code",
      "metadata": {
        "id": "qIPMsVUXa9j8",
        "colab_type": "code",
        "colab": {
          "base_uri": "https://localhost:8080/",
          "height": 68
        },
        "outputId": "1bb80a1d-1fe4-478f-d5fd-fac7ed9959e3"
      },
      "source": [
        "# update list & delete list\n",
        "li = ['Gitam',123456,'Hyd',7]\n",
        "print(li)\n",
        "li[1]= 7\n",
        "print(li)\n",
        "del li[3]\n",
        "print(li)"
      ],
      "execution_count": 60,
      "outputs": [
        {
          "output_type": "stream",
          "text": [
            "['Gitam', 123456, 'Hyd', 7]\n",
            "['Gitam', 7, 'Hyd', 7]\n",
            "['Gitam', 7, 'Hyd']\n"
          ],
          "name": "stdout"
        }
      ]
    },
    {
      "cell_type": "code",
      "metadata": {
        "id": "RRLenklTb2Tb",
        "colab_type": "code",
        "colab": {}
      },
      "source": [
        ""
      ],
      "execution_count": 0,
      "outputs": []
    }
  ]
}