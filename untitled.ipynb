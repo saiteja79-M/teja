{
  "nbformat": 4,
  "nbformat_minor": 0,
  "metadata": {
    "colab": {
      "name": ".ipynb",
      "provenance": [],
      "include_colab_link": true
    },
    "kernelspec": {
      "name": "python3",
      "display_name": "Python 3"
    }
  },
  "cells": [
    {
      "cell_type": "markdown",
      "metadata": {
        "id": "view-in-github",
        "colab_type": "text"
      },
      "source": [
        "<a href=\"https://colab.research.google.com/github/SaiSridhar007/Ironman007/blob/master/untitled.ipynb\" target=\"_parent\"><img src=\"https://colab.research.google.com/assets/colab-badge.svg\" alt=\"Open In Colab\"/></a>"
      ]
    },
    {
      "cell_type": "code",
      "metadata": {
        "id": "b-DCEpT-Mhji",
        "colab_type": "code",
        "colab": {
          "base_uri": "https://localhost:8080/",
          "height": 85
        },
        "outputId": "96aba68a-cb16-49b1-89dc-fd16c5eda40c"
      },
      "source": [
        "# Basic List Fucntions\n",
        "li =[1,9,16,25,5]\n",
        "print(max(li))\n",
        "print(min(li))\n",
        "print(sum(li))\n",
        "print(sum(li)//len(li))\n"
      ],
      "execution_count": 1,
      "outputs": [
        {
          "output_type": "stream",
          "text": [
            "25\n",
            "1\n",
            "56\n",
            "11\n"
          ],
          "name": "stdout"
        }
      ]
    },
    {
      "cell_type": "code",
      "metadata": {
        "id": "UMboYDCWNg1b",
        "colab_type": "code",
        "colab": {
          "base_uri": "https://localhost:8080/",
          "height": 34
        },
        "outputId": "735b8f75-86c5-4ceb-faaa-273bd5d403bb"
      },
      "source": [
        "li = [1,9,16,25,5]\n",
        "li.append(29) #add the new items at last\n",
        "li.insert(2,56) # add the new item at index 2\n",
        "li  \n",
        "# li.append(9)\n",
        "li.count(9) # return the value "
      ],
      "execution_count": 5,
      "outputs": [
        {
          "output_type": "execute_result",
          "data": {
            "text/plain": [
              "2"
            ]
          },
          "metadata": {
            "tags": []
          },
          "execution_count": 5
        }
      ]
    },
    {
      "cell_type": "code",
      "metadata": {
        "id": "LFE9UPT5PWCB",
        "colab_type": "code",
        "colab": {
          "base_uri": "https://localhost:8080/",
          "height": 34
        },
        "outputId": "77c21546-658d-493c-986c-1555767dedaf"
      },
      "source": [
        "# method of list object\n",
        "li = [1,9,16,56,25,5,9]\n",
        "li.sort() # sorts that list in ascending order\n",
        "# li.pop - last index value\n",
        "li.pop()\n",
        "li\n",
        "li.pop(1) # remove the items from \n",
        "li"
      ],
      "execution_count": 6,
      "outputs": [
        {
          "output_type": "execute_result",
          "data": {
            "text/plain": [
              "[1, 9, 9, 16, 25]"
            ]
          },
          "metadata": {
            "tags": []
          },
          "execution_count": 6
        }
      ]
    },
    {
      "cell_type": "code",
      "metadata": {
        "id": "rBUhOYWARJy4",
        "colab_type": "code",
        "colab": {
          "base_uri": "https://localhost:8080/",
          "height": 34
        },
        "outputId": "37517714-f438-49c3-a873-0bb3cebfdc7a"
      },
      "source": [
        "li1 = [1,6,19,25]\n",
        "li.extend(li1)\n",
        "li1\n",
        "li1.reverse()\n",
        "li1"
      ],
      "execution_count": 12,
      "outputs": [
        {
          "output_type": "execute_result",
          "data": {
            "text/plain": [
              "[25, 19, 6, 1]"
            ]
          },
          "metadata": {
            "tags": []
          },
          "execution_count": 12
        }
      ]
    },
    {
      "cell_type": "code",
      "metadata": {
        "id": "EBya8BybTeIJ",
        "colab_type": "code",
        "colab": {
          "base_uri": "https://localhost:8080/",
          "height": 51
        },
        "outputId": "bf930b18-d1f0-4f32-9982-0ebdcc06c3f3"
      },
      "source": [
        "def largeNumber(li):\n",
        "  li.sort()\n",
        "  return li[-1]\n",
        "def genericLarge(li,n):\n",
        "  li.sort()\n",
        "  return li[-n]\n",
        "li = [19,1,25,6,9,45,22]\n",
        "print(largeNumber(li))\n",
        "print(genericLarge(li,3))"
      ],
      "execution_count": 15,
      "outputs": [
        {
          "output_type": "stream",
          "text": [
            "45\n",
            "22\n"
          ],
          "name": "stdout"
        }
      ]
    },
    {
      "cell_type": "code",
      "metadata": {
        "id": "RjT0uxdmVv87",
        "colab_type": "code",
        "colab": {
          "base_uri": "https://localhost:8080/",
          "height": 51
        },
        "outputId": "879b8633-aa08-4d69-aac8-4378cf4e6a3f"
      },
      "source": [
        "def smallNumber(li):\n",
        "  li.sort()\n",
        "  return li[0]\n",
        "def genericSmall(li,n):\n",
        "  li.sort()\n",
        "  return li[n-1]\n",
        "li = [19,1,25,6,9,45,22]\n",
        "print(smallNumber(li))\n",
        "print(genericSmall(li,3))"
      ],
      "execution_count": 20,
      "outputs": [
        {
          "output_type": "stream",
          "text": [
            "1\n",
            "9\n"
          ],
          "name": "stdout"
        }
      ]
    },
    {
      "cell_type": "markdown",
      "metadata": {
        "id": "UwcalAusatUH",
        "colab_type": "text"
      },
      "source": [
        "### Tuples\n",
        "- paranthesis () ---->Tuple and square bracket[]----->\n",
        "- difference between list and tuples\n",
        "  - lists are mutable - can be changed/modified\n",
        "  - used to access and modify, add, delete data\n",
        "  - tuples are immutable - cannot be changed\n",
        "  - used to access data only\n"
      ]
    },
    {
      "cell_type": "code",
      "metadata": {
        "id": "CwxTwqOybO6y",
        "colab_type": "code",
        "colab": {
          "base_uri": "https://localhost:8080/",
          "height": 34
        },
        "outputId": "cbef0cb7-ff6e-4973-ff03-6dc730d3dd12"
      },
      "source": [
        "t1 = (1,2,3,4,5,6)\n",
        "t1\n",
        "print(type(t1),t1[1:5])"
      ],
      "execution_count": 21,
      "outputs": [
        {
          "output_type": "stream",
          "text": [
            "<class 'tuple'> (2, 3, 4, 5)\n"
          ],
          "name": "stdout"
        }
      ]
    },
    {
      "cell_type": "markdown",
      "metadata": {
        "id": "xLiY6t3NeKZp",
        "colab_type": "text"
      },
      "source": [
        "### Dictionaries\n",
        "1. It works on the concept of Set unique Data\n",
        "2. keys, values is the unique identifier for the value\n",
        "3. Each key separated from its value with colon(:)\n",
        "4. Each key and vakue is separated with comma(,))\n",
        "5. Dictionaries enhanced with curly braces({})\n"
      ]
    },
    {
      "cell_type": "code",
      "metadata": {
        "id": "8tMPYdAGfT2x",
        "colab_type": "code",
        "colab": {
          "base_uri": "https://localhost:8080/",
          "height": 34
        },
        "outputId": "954810bb-b440-45bc-9fdc-5be3041f61dd"
      },
      "source": [
        "d1 = {\"Name\":\"Gitam\", \"Email id\":\"Gitam@gmail.com\",\"Adress\":\"Hyderabad\"}\n",
        "d1"
      ],
      "execution_count": 25,
      "outputs": [
        {
          "output_type": "execute_result",
          "data": {
            "text/plain": [
              "{'Adress': 'Hyderabad', 'Email id': 'Gitam@gmail.com', 'Name': 'Gitam'}"
            ]
          },
          "metadata": {
            "tags": []
          },
          "execution_count": 25
        }
      ]
    },
    {
      "cell_type": "code",
      "metadata": {
        "id": "5jhWhYWZfqVS",
        "colab_type": "code",
        "colab": {}
      },
      "source": [
        "d1[\"Email id\"] = \"python@gmail.com\"\n",
        "d1[\"course\"] = \"python\" # adding entry"
      ],
      "execution_count": 0,
      "outputs": []
    },
    {
      "cell_type": "code",
      "metadata": {
        "id": "63tLlHZfgUGx",
        "colab_type": "code",
        "colab": {
          "base_uri": "https://localhost:8080/",
          "height": 85
        },
        "outputId": "643cdc8e-aef0-48fe-9833-761e8ccac874"
      },
      "source": [
        "d1"
      ],
      "execution_count": 28,
      "outputs": [
        {
          "output_type": "execute_result",
          "data": {
            "text/plain": [
              "{'Adress': 'Hyderabad',\n",
              " 'Email id': 'python@gmail.com',\n",
              " 'Name': 'Gitam',\n",
              " 'course': 'python'}"
            ]
          },
          "metadata": {
            "tags": []
          },
          "execution_count": 28
        }
      ]
    },
    {
      "cell_type": "code",
      "metadata": {
        "id": "RYQonOSNhmOh",
        "colab_type": "code",
        "colab": {
          "base_uri": "https://localhost:8080/",
          "height": 34
        },
        "outputId": "c834b8ab-aafd-4cd6-ba09-9cf75ae9374d"
      },
      "source": [
        "d1.keys()\n"
      ],
      "execution_count": 31,
      "outputs": [
        {
          "output_type": "execute_result",
          "data": {
            "text/plain": [
              "dict_keys(['Name', 'Email id', 'Adress', 'course'])"
            ]
          },
          "metadata": {
            "tags": []
          },
          "execution_count": 31
        }
      ]
    },
    {
      "cell_type": "code",
      "metadata": {
        "id": "QJzRQ-bUhvTx",
        "colab_type": "code",
        "colab": {
          "base_uri": "https://localhost:8080/",
          "height": 34
        },
        "outputId": "7632a9e4-7f01-461b-8c53-876fa69f911e"
      },
      "source": [
        "d1.values()"
      ],
      "execution_count": 32,
      "outputs": [
        {
          "output_type": "execute_result",
          "data": {
            "text/plain": [
              "dict_values(['Gitam', 'python@gmail.com', 'Hyderabad', 'python'])"
            ]
          },
          "metadata": {
            "tags": []
          },
          "execution_count": 32
        }
      ]
    },
    {
      "cell_type": "code",
      "metadata": {
        "id": "QH0dQUK8h52R",
        "colab_type": "code",
        "colab": {
          "base_uri": "https://localhost:8080/",
          "height": 34
        },
        "outputId": "f56af5c5-99fe-43b8-fae6-93ab51ee012f"
      },
      "source": [
        "d1.items()"
      ],
      "execution_count": 34,
      "outputs": [
        {
          "output_type": "execute_result",
          "data": {
            "text/plain": [
              "dict_items([('Name', 'Gitam'), ('Email id', 'python@gmail.com'), ('Adress', 'Hyderabad'), ('course', 'python')])"
            ]
          },
          "metadata": {
            "tags": []
          },
          "execution_count": 34
        }
      ]
    },
    {
      "cell_type": "markdown",
      "metadata": {
        "id": "l1_hlnsPjPzZ",
        "colab_type": "text"
      },
      "source": [
        "### Strings:\n",
        "- Strings\n",
        "- String Slicing\n",
        "- Fundamental Programming with String in Python"
      ]
    },
    {
      "cell_type": "code",
      "metadata": {
        "id": "VShDtX1ejdLA",
        "colab_type": "code",
        "colab": {
          "base_uri": "https://localhost:8080/",
          "height": 51
        },
        "outputId": "ae9b15ea-eb28-4d0a-e85f-86da2c6224f2"
      },
      "source": [
        "s1 = 'Python'\n",
        "print(s1)\n",
        "print(type(s1))"
      ],
      "execution_count": 35,
      "outputs": [
        {
          "output_type": "stream",
          "text": [
            "Python\n",
            "<class 'str'>\n"
          ],
          "name": "stdout"
        }
      ]
    },
    {
      "cell_type": "code",
      "metadata": {
        "id": "nQIkKkmKjpIJ",
        "colab_type": "code",
        "colab": {
          "base_uri": "https://localhost:8080/",
          "height": 85
        },
        "outputId": "dd48e73b-ffaa-4a06-fef7-bb18489e7ab0"
      },
      "source": [
        "s1 = 'python'\n",
        "print(s1[0])\n",
        "print(s1[1])\n",
        "print(s1[5])\n",
        "print(s1[len(s1)-1])"
      ],
      "execution_count": 37,
      "outputs": [
        {
          "output_type": "stream",
          "text": [
            "p\n",
            "y\n",
            "n\n",
            "n\n"
          ],
          "name": "stdout"
        }
      ]
    },
    {
      "cell_type": "code",
      "metadata": {
        "id": "ioLsFbI4j8Co",
        "colab_type": "code",
        "colab": {
          "base_uri": "https://localhost:8080/",
          "height": 119
        },
        "outputId": "36912339-5aef-406b-dc67-1e8b52969c5c"
      },
      "source": [
        "s1 = 'Python'\n",
        "print(s1[-1])\n",
        "print(s1[-2])\n",
        "print(s1[0:2])\n",
        "print(s1[-3])\n",
        "print(s1[-3:])\n",
        "print(s1[2:])"
      ],
      "execution_count": 38,
      "outputs": [
        {
          "output_type": "stream",
          "text": [
            "n\n",
            "o\n",
            "Py\n",
            "h\n",
            "hon\n",
            "thon\n"
          ],
          "name": "stdout"
        }
      ]
    },
    {
      "cell_type": "code",
      "metadata": {
        "id": "UeYY-d0tlUHW",
        "colab_type": "code",
        "colab": {
          "base_uri": "https://localhost:8080/",
          "height": 119
        },
        "outputId": "51910145-0156-46a0-83fb-6d3c7e2706cd"
      },
      "source": [
        "s1 = 'Python'\n",
        "print(s1[1:-1])\n",
        "print(s1[len(s1)//2])\n",
        "print(s1[-1::1])\n",
        "print(s1[-1:-3:-1])\n",
        "print(s1[::2])\n",
        "print(s1[::-2])"
      ],
      "execution_count": 39,
      "outputs": [
        {
          "output_type": "stream",
          "text": [
            "ytho\n",
            "h\n",
            "n\n",
            "no\n",
            "Pto\n",
            "nhy\n"
          ],
          "name": "stdout"
        }
      ]
    },
    {
      "cell_type": "markdown",
      "metadata": {
        "id": "QAhytg1Yoz7Z",
        "colab_type": "text"
      },
      "source": [
        "### Palindrome and Reverse"
      ]
    },
    {
      "cell_type": "code",
      "metadata": {
        "id": "1ISXrBQqo7Th",
        "colab_type": "code",
        "colab": {
          "base_uri": "https://localhost:8080/",
          "height": 34
        },
        "outputId": "20ce1079-4da4-4c62-faac-86d28c7d7c78"
      },
      "source": [
        "def reversestring(str):\n",
        "  return str[-1::-1]\n",
        "reversestring(\"Programming\")"
      ],
      "execution_count": 40,
      "outputs": [
        {
          "output_type": "execute_result",
          "data": {
            "text/plain": [
              "'gnimmargorP'"
            ]
          },
          "metadata": {
            "tags": []
          },
          "execution_count": 40
        }
      ]
    },
    {
      "cell_type": "code",
      "metadata": {
        "id": "zAnTq3acpOR0",
        "colab_type": "code",
        "colab": {
          "base_uri": "https://localhost:8080/",
          "height": 51
        },
        "outputId": "54aa00cf-ef55-4e35-a1ba-838bb3a05af6"
      },
      "source": [
        "def ispalindrome(str):\n",
        "  if str == str[::-1]:\n",
        "    return True\n",
        "  else:\n",
        "    return False\n",
        "    return\n",
        "print(ispalindrome(\"Python\"))\n",
        "print(ispalindrome('MalayalaM'))"
      ],
      "execution_count": 42,
      "outputs": [
        {
          "output_type": "stream",
          "text": [
            "False\n",
            "True\n"
          ],
          "name": "stdout"
        }
      ]
    },
    {
      "cell_type": "markdown",
      "metadata": {
        "id": "k9fmi0rmrMcJ",
        "colab_type": "text"
      },
      "source": [
        "### Boolean built in method\n",
        "- islower() -- True if the string have all characters lower case\n",
        "- isupper() -- True if the string have all characters upper case\n",
        "- istitle() -- True if the string in title case\n",
        "- isnumeric() -True if the string is numeric\n",
        "- isalpha() -- True if the string have all characters as alphabets\n",
        "- isspace() -- True if the string is space"
      ]
    },
    {
      "cell_type": "code",
      "metadata": {
        "id": "-O9KRcEZrRMy",
        "colab_type": "code",
        "colab": {
          "base_uri": "https://localhost:8080/",
          "height": 34
        },
        "outputId": "ae7a0fb6-80e0-4a42-a077-29defd650cf9"
      },
      "source": [
        "s1 = \"ABC a 1\"\n",
        "print(s1.islower())"
      ],
      "execution_count": 53,
      "outputs": [
        {
          "output_type": "stream",
          "text": [
            "False\n"
          ],
          "name": "stdout"
        }
      ]
    },
    {
      "cell_type": "code",
      "metadata": {
        "id": "wKuPwKBDsO9Y",
        "colab_type": "code",
        "colab": {
          "base_uri": "https://localhost:8080/",
          "height": 34
        },
        "outputId": "fc51cd8b-216e-4eab-9370-b99c53ada545"
      },
      "source": [
        "s1 = \"123\"\n",
        "print(s1.isnumeric())"
      ],
      "execution_count": 48,
      "outputs": [
        {
          "output_type": "stream",
          "text": [
            "True\n"
          ],
          "name": "stdout"
        }
      ]
    },
    {
      "cell_type": "code",
      "metadata": {
        "id": "W59KhXbwscLZ",
        "colab_type": "code",
        "colab": {
          "base_uri": "https://localhost:8080/",
          "height": 34
        },
        "outputId": "a2b3df29-e0aa-47ac-a01f-e50bef7c1890"
      },
      "source": [
        "s1 = \"123A\"\n",
        "print(s1.isnumeric())"
      ],
      "execution_count": 49,
      "outputs": [
        {
          "output_type": "stream",
          "text": [
            "False\n"
          ],
          "name": "stdout"
        }
      ]
    },
    {
      "cell_type": "code",
      "metadata": {
        "id": "mr94lN8TsekB",
        "colab_type": "code",
        "colab": {
          "base_uri": "https://localhost:8080/",
          "height": 34
        },
        "outputId": "b5d7e99d-db39-4c69-d5f3-1ee5551e1520"
      },
      "source": [
        "s1 = \"ABC\"\n",
        "print(s1.isupper())"
      ],
      "execution_count": 50,
      "outputs": [
        {
          "output_type": "stream",
          "text": [
            "True\n"
          ],
          "name": "stdout"
        }
      ]
    },
    {
      "cell_type": "code",
      "metadata": {
        "id": "YVxdGGoosh-R",
        "colab_type": "code",
        "colab": {
          "base_uri": "https://localhost:8080/",
          "height": 34
        },
        "outputId": "0c031ae6-d316-4982-8b71-ad300e4ce3ff"
      },
      "source": [
        "s1 = \"1 2 3\"\n",
        "print(s1.isspace())"
      ],
      "execution_count": 52,
      "outputs": [
        {
          "output_type": "stream",
          "text": [
            "False\n"
          ],
          "name": "stdout"
        }
      ]
    },
    {
      "cell_type": "code",
      "metadata": {
        "id": "qEZaqbCask3C",
        "colab_type": "code",
        "colab": {
          "base_uri": "https://localhost:8080/",
          "height": 34
        },
        "outputId": "42b33ed0-897b-4aa8-947e-050707c35377"
      },
      "source": [
        "s1 = \"Python\"\n",
        "print(\" \".join(s1))"
      ],
      "execution_count": 57,
      "outputs": [
        {
          "output_type": "stream",
          "text": [
            "P y t h o n\n"
          ],
          "name": "stdout"
        }
      ]
    },
    {
      "cell_type": "code",
      "metadata": {
        "id": "L_cS5iJ2u7w5",
        "colab_type": "code",
        "colab": {
          "base_uri": "https://localhost:8080/",
          "height": 34
        },
        "outputId": "d3551f5d-a7db-4251-a5dc-77ad5828e03a"
      },
      "source": [
        "s2 = \"Python programming is easy to learn\"\n",
        "print(\" , \".join(s2))"
      ],
      "execution_count": 59,
      "outputs": [
        {
          "output_type": "stream",
          "text": [
            "P , y , t , h , o , n ,   , p , r , o , g , r , a , m , m , i , n , g ,   , i , s ,   , e , a , s , y ,   , t , o ,   , l , e , a , r , n\n"
          ],
          "name": "stdout"
        }
      ]
    },
    {
      "cell_type": "code",
      "metadata": {
        "id": "ra0MMe_1vkGZ",
        "colab_type": "code",
        "colab": {
          "base_uri": "https://localhost:8080/",
          "height": 34
        },
        "outputId": "7ff196c6-b674-4cf7-bcb0-c1d56ad5da40"
      },
      "source": [
        "s2 = \"Python Programming Easy to learn\"\n",
        "print(s2.split())"
      ],
      "execution_count": 60,
      "outputs": [
        {
          "output_type": "stream",
          "text": [
            "['Python', 'Programming', 'Easy', 'to', 'learn']\n"
          ],
          "name": "stdout"
        }
      ]
    },
    {
      "cell_type": "code",
      "metadata": {
        "id": "w6fnhFe0wocp",
        "colab_type": "code",
        "colab": {
          "base_uri": "https://localhost:8080/",
          "height": 34
        },
        "outputId": "b03ab4aa-cbe2-40a5-ab4b-1f69d6500542"
      },
      "source": [
        "s2 = \"Python programming Easy to learn\"\n",
        "li = list(s2)\n",
        "print(li)"
      ],
      "execution_count": 62,
      "outputs": [
        {
          "output_type": "stream",
          "text": [
            "['P', 'y', 't', 'h', 'o', 'n', ' ', 'p', 'r', 'o', 'g', 'r', 'a', 'm', 'm', 'i', 'n', 'g', ' ', 'E', 'a', 's', 'y', ' ', 't', 'o', ' ', 'l', 'e', 'a', 'r', 'n']\n"
          ],
          "name": "stdout"
        }
      ]
    },
    {
      "cell_type": "code",
      "metadata": {
        "id": "u0h8cklAxd6h",
        "colab_type": "code",
        "colab": {
          "base_uri": "https://localhost:8080/",
          "height": 34
        },
        "outputId": "7781cfdc-a5ab-4da8-e140-475949792b2a"
      },
      "source": [
        "s2 = \"Python programming Easy to learn\"\n",
        "print(s2.replace(\"gra\",\"Application\"))"
      ],
      "execution_count": 63,
      "outputs": [
        {
          "output_type": "stream",
          "text": [
            "Python proApplicationmming Easy to learn\n"
          ],
          "name": "stdout"
        }
      ]
    },
    {
      "cell_type": "code",
      "metadata": {
        "id": "m0mHPlH9yDkx",
        "colab_type": "code",
        "colab": {}
      },
      "source": [
        ""
      ],
      "execution_count": 0,
      "outputs": []
    }
  ]
}